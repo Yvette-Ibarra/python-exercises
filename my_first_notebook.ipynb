{
 "cells": [
  {
   "cell_type": "code",
   "execution_count": 1,
   "id": "c88400f6",
   "metadata": {},
   "outputs": [
    {
     "data": {
      "text/plain": [
       "2"
      ]
     },
     "execution_count": 1,
     "metadata": {},
     "output_type": "execute_result"
    }
   ],
   "source": [
    "1 + 1"
   ]
  },
  {
   "cell_type": "code",
   "execution_count": 2,
   "id": "d12e4884",
   "metadata": {},
   "outputs": [
    {
     "data": {
      "text/plain": [
       "1.4142135623730951"
      ]
     },
     "execution_count": 2,
     "metadata": {},
     "output_type": "execute_result"
    }
   ],
   "source": [
    "2 **(1/2)"
   ]
  },
  {
   "cell_type": "code",
   "execution_count": 3,
   "id": "9d3b1221",
   "metadata": {},
   "outputs": [
    {
     "name": "stdout",
     "output_type": "stream",
     "text": [
      "jupyter\n"
     ]
    }
   ],
   "source": [
    "x = 'jupyter'\n",
    "print (x)"
   ]
  },
  {
   "cell_type": "markdown",
   "id": "4e410623",
   "metadata": {},
   "source": [
    " Double clicking D when on command mode the cell will delete"
   ]
  },
  {
   "cell_type": "markdown",
   "id": "240feb9c",
   "metadata": {},
   "source": [
    "While in command mode type A to add cell above"
   ]
  },
  {
   "cell_type": "markdown",
   "id": "78dcacd6",
   "metadata": {},
   "source": [
    "While in command mode type y to change cell type to code"
   ]
  },
  {
   "cell_type": "markdown",
   "id": "e89b516e",
   "metadata": {},
   "source": [
    "While in command mode type M to change cell type to markdown"
   ]
  }
 ],
 "metadata": {
  "kernelspec": {
   "display_name": "Python 3 (ipykernel)",
   "language": "python",
   "name": "python3"
  },
  "language_info": {
   "codemirror_mode": {
    "name": "ipython",
    "version": 3
   },
   "file_extension": ".py",
   "mimetype": "text/x-python",
   "name": "python",
   "nbconvert_exporter": "python",
   "pygments_lexer": "ipython3",
   "version": "3.9.12"
  }
 },
 "nbformat": 4,
 "nbformat_minor": 5
}
